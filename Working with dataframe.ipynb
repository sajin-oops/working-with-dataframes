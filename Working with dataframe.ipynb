{
 "cells": [
  {
   "cell_type": "code",
   "execution_count": 20,
   "metadata": {
    "collapsed": false
   },
   "outputs": [
    {
     "name": "stdout",
     "output_type": "stream",
     "text": [
      "{'empname': ['sajin', 'lijin', nan, 'aaron'], 'designation': ['DATA SCIENTIST', 'DATA ENGINEER', nan, 'DATA ANALYST']}\n"
     ]
    }
   ],
   "source": [
    "#creating three data frame\n",
    "\n",
    "import pandas as pd\n",
    "from numpy import nan as na\n",
    "\n",
    "data ={\n",
    "    'empname':[\"sajin\",\"lijin\",na,\"aaron\"],\n",
    "    'designation':[\"DATA SCIENTIST\",\"DATA ENGINEER\",na,\"DATA ANALYST\"]\n",
    "}\n",
    "# pl=pd.DataFrame(data)\n",
    "# print(pl)\n",
    "print(data)"
   ]
  },
  {
   "cell_type": "code",
   "execution_count": 29,
   "metadata": {
    "collapsed": false
   },
   "outputs": [
    {
     "name": "stdout",
     "output_type": "stream",
     "text": [
      "      designation empname     salary\n",
      "0  DATA SCIENTIST   sajin  1200000.0\n",
      "1   DATA ENGINEER   lijin  5500000.0\n",
      "2             NaN     NaN  5000000.0\n",
      "3    DATA ANALYST   aaron        NaN\n"
     ]
    }
   ],
   "source": [
    "data=pd.DataFrame({\n",
    "    'empname':[\"sajin\",\"lijin\",na,\"aaron\"],\n",
    "    'designation':[\"DATA SCIENTIST\",\"DATA ENGINEER\",na,\"DATA ANALYST\"],\n",
    "    'salary':[1200000,5500000,5000000,na]\n",
    "})\n",
    "print(data)"
   ]
  },
  {
   "cell_type": "code",
   "execution_count": null,
   "metadata": {
    "collapsed": true
   },
   "outputs": [],
   "source": []
  },
  {
   "cell_type": "code",
   "execution_count": 34,
   "metadata": {
    "collapsed": false
   },
   "outputs": [
    {
     "data": {
      "text/plain": [
       "'C:\\\\Users\\\\DS\\\\Documents\\\\SAJIN'"
      ]
     },
     "execution_count": 34,
     "metadata": {},
     "output_type": "execute_result"
    }
   ],
   "source": [
    "import os\n",
    "os.getcwd()"
   ]
  },
  {
   "cell_type": "code",
   "execution_count": null,
   "metadata": {
    "collapsed": true
   },
   "outputs": [],
   "source": []
  }
 ],
 "metadata": {
  "kernelspec": {
   "display_name": "Python 3",
   "language": "python",
   "name": "python3"
  },
  "language_info": {
   "codemirror_mode": {
    "name": "ipython",
    "version": 3
   },
   "file_extension": ".py",
   "mimetype": "text/x-python",
   "name": "python",
   "nbconvert_exporter": "python",
   "pygments_lexer": "ipython3",
   "version": "3.6.0"
  }
 },
 "nbformat": 4,
 "nbformat_minor": 2
}
